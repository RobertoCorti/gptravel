{
 "cells": [
  {
   "cell_type": "code",
   "execution_count": 4,
   "id": "01bb80d7-a677-4c5f-bc0e-8d66f8fdd1df",
   "metadata": {},
   "outputs": [
    {
     "name": "stdout",
     "output_type": "stream",
     "text": [
      "OPENAI_API_KEY loaded correctly\n"
     ]
    }
   ],
   "source": [
    "import os\n",
    "import json\n",
    "import pandas as pd\n",
    "from datetime import datetime\n",
    "from dotenv import load_dotenv\n",
    "from utils import check_env_variable, check_file_exists, generate_tp_name\n",
    "\n",
    "from gptravel.core.travel_planner.openai_engine import ChatGPTravelEngine\n",
    "from gptravel.core.travel_planner.prompt import PlainTravelPrompt\n",
    "from gptravel.core.travel_planner.travel_engine import TravelPlanJSON\n",
    "from gptravel.core.services.geocoder import GeoCoder\n",
    "\n",
    "from langchain_openai import OpenAI, ChatOpenAI\n",
    "from langchain_core.prompts import PromptTemplate, ChatPromptTemplate, HumanMessagePromptTemplate\n",
    "from langchain_core.messages import SystemMessage\n",
    "from langchain_core.output_parsers import StrOutputParser\n",
    "from langchain_core.runnables import RunnableLambda, RunnableMap\n",
    "from langchain_core.runnables.passthrough import RunnableAssign\n",
    "from langchain_core.pydantic_v1 import BaseModel\n",
    "\n",
    "from gptravel.core.utils.regex_tool import JsonExtractor\n",
    "from utils import from_json_to_text\n",
    "from typing import Dict, Any\n",
    "from operator import itemgetter\n",
    "\n",
    "load_dotenv()\n",
    "\n",
    "check_env_variable('OPENAI_API_KEY')\n",
    "examples_folder = os.path.join('examples')"
   ]
  },
  {
   "cell_type": "code",
   "execution_count": 3,
   "id": "7b55a810-115e-479d-a21f-c7dc925c50a4",
   "metadata": {},
   "outputs": [
    {
     "name": "stdout",
     "output_type": "stream",
     "text": [
      "{'departure_place': 'Milan', 'departure_date': datetime.datetime(2024, 8, 30, 0, 0), 'destination_place': 'Berlin', 'end_date': datetime.datetime(2024, 9, 6, 0, 0), 'gpt_params': {'model': 'gpt-4o-mini', 'max_tokens': 600, 'temperature': 0}, 'n_travel_days': 7}\n"
     ]
    }
   ],
   "source": [
    "PARAMETERS = {\n",
    "    'departure_place': 'Milan',\n",
    "    'departure_date': datetime(2024, 8, 30),\n",
    "    'destination_place': 'Berlin',\n",
    "    'end_date': datetime(2024, 9, 6),\n",
    "    'gpt_params': {\n",
    "        'model': 'gpt-4o-mini',\n",
    "        'max_tokens': 600,\n",
    "        'temperature': 0,\n",
    "    },\n",
    "}\n",
    "\n",
    "PARAMETERS['n_travel_days'] = (PARAMETERS['end_date'] - PARAMETERS['departure_date']).days\n",
    "print(PARAMETERS)"
   ]
  },
  {
   "cell_type": "markdown",
   "id": "dd8bd6af-d6f5-4056-bdae-4a838aca1652",
   "metadata": {},
   "source": [
    "# Travel Plan Generation"
   ]
  },
  {
   "cell_type": "code",
   "execution_count": null,
   "id": "f9dfca24-eda2-40cc-9563-4de0abf473aa",
   "metadata": {},
   "outputs": [],
   "source": [
    "class Activity(BaseModel):\n",
    "    \"\"\"Travel Plan Activity\"\"\"\n",
    "    time: dat"
   ]
  }
 ],
 "metadata": {
  "kernelspec": {
   "display_name": "Python 3 (ipykernel)",
   "language": "python",
   "name": "python3"
  },
  "language_info": {
   "codemirror_mode": {
    "name": "ipython",
    "version": 3
   },
   "file_extension": ".py",
   "mimetype": "text/x-python",
   "name": "python",
   "nbconvert_exporter": "python",
   "pygments_lexer": "ipython3",
   "version": "3.9.0"
  }
 },
 "nbformat": 4,
 "nbformat_minor": 5
}
