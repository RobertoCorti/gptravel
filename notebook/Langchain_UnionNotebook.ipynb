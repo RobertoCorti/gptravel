{
 "cells": [
  {
   "cell_type": "code",
   "execution_count": 1,
   "id": "01bb80d7-a677-4c5f-bc0e-8d66f8fdd1df",
   "metadata": {},
   "outputs": [
    {
     "name": "stdout",
     "output_type": "stream",
     "text": [
      "OPENAI_API_KEY loaded correctly\n"
     ]
    }
   ],
   "source": [
    "import os\n",
    "import json\n",
    "import pandas as pd\n",
    "import requests\n",
    "from datetime import datetime\n",
    "from dotenv import load_dotenv\n",
    "from utils import check_env_variable, check_file_exists, generate_tp_name\n",
    "from inspect import cleandoc\n",
    "\n",
    "from gptravel.core.travel_planner.openai_engine import ChatGPTravelEngine\n",
    "from gptravel.core.travel_planner.prompt import PlainTravelPrompt\n",
    "from gptravel.core.travel_planner.travel_engine import TravelPlanJSON\n",
    "from gptravel.core.services.geocoder import GeoCoder\n",
    "\n",
    "from langchain_openai import OpenAI, ChatOpenAI\n",
    "from langchain_core.prompts import PromptTemplate, ChatPromptTemplate, HumanMessagePromptTemplate\n",
    "from langchain_core.messages import SystemMessage\n",
    "from langchain_core.output_parsers import StrOutputParser\n",
    "from langchain_core.runnables import RunnableLambda, RunnableMap\n",
    "from langchain_core.runnables.passthrough import RunnableAssign\n",
    "from langchain_core.pydantic_v1 import BaseModel\n",
    "from serpapi import GoogleSearch\n",
    "from agents import get_flight_query_agent, get_travel_plan_generator_agent, get_accomodation_selection_chain, get_flight_selection_chain\n",
    "\n",
    "from gptravel.core.utils.regex_tool import JsonExtractor\n",
    "from utils import from_json_to_text\n",
    "from typing import Dict, Any, Optional, List, Tuple\n",
    "from operator import itemgetter\n",
    "\n",
    "## pydantic schemas\n",
    "from travel_plan_schema import TravelPlan\n",
    "\n",
    "load_dotenv()\n",
    "\n",
    "check_env_variable('OPENAI_API_KEY')\n",
    "examples_folder = os.path.join('examples')"
   ]
  },
  {
   "cell_type": "code",
   "execution_count": 2,
   "id": "7b55a810-115e-479d-a21f-c7dc925c50a4",
   "metadata": {},
   "outputs": [
    {
     "name": "stdout",
     "output_type": "stream",
     "text": [
      "{'departure_place': 'Milan', 'departure_date_dt': datetime.datetime(2024, 11, 30, 0, 0), 'destination_place': 'Berlin', 'return_date_dt': datetime.datetime(2024, 12, 3, 0, 0), 'gpt_params': {'model': 'gpt-4o-mini', 'temperature': 0}, 'user_travel_notes': 'I would like to organize a romantic travel to surprise my girlfirend. I would like to leave Berlin in the morning the last day', 'n_travel_days': 4, 'departure_date': '2024-11-30', 'return_date': '2024-12-03'}\n"
     ]
    }
   ],
   "source": [
    "PARAMETERS = {\n",
    "    'departure_place': 'Milan',\n",
    "    'departure_date_dt': datetime(2024, 11, 30),\n",
    "    'destination_place': 'Berlin',\n",
    "    'return_date_dt': datetime(2024, 12, 3),\n",
    "    'gpt_params': {\n",
    "        'model': 'gpt-4o-mini',\n",
    "        #'max_tokens': 600,\n",
    "        'temperature': 0,\n",
    "    },\n",
    "    'user_travel_notes': 'I would like to organize a romantic travel to surprise my girlfirend. I would like to leave Berlin in the morning the last day',\n",
    "}\n",
    "\n",
    "FLIGHT_API_PARAMETERS = {\n",
    "    'engine': 'google_flights',\n",
    "    'gl': 'it', # country of the engine search\n",
    "    'hl': 'en', # language\n",
    "    'currency': 'EUR',\n",
    "    'type': '2', # 1 = round trip, 2 = one way, 3 = multicity\n",
    "    'travel_class': 1, # 1 = economy, 2 = premium economy, 3 = business, 4 = first\n",
    "    'adults': 2, # number of adults\n",
    "    'children': 0, # number of children\n",
    "    'stops': 0, # number of scali\n",
    "    'bags': 0, # number of carry bags\n",
    "    'api_key': os.getenv('SERP_API_KEY'),\n",
    "}\n",
    "\n",
    "HOTELS_API_PARAMETERS = {\n",
    "    \"currency\": \"EUR\",\n",
    "    \"sort_by\": \"3\",\n",
    "    'api_key': os.getenv('SERP_API_KEY'),\n",
    "    \"engine\": \"google_hotels\"\n",
    "}\n",
    "\n",
    "\n",
    "FLIGHTS_ENDPOINTS = ['https://serpapi.com/searches/5b21533b2c3e8273/66d8906ffc183d0799f96b3b.json',\n",
    "             'https://serpapi.com/searches/5b21533b2c3e8273/66d89070708e2e2145e0af19.json']\n",
    "\n",
    "HOTELS_ENDPOINT = ['https://serpapi.com/searches/f29526eb14e9aac7/66dc83b120e6eb7e4e0353a4.json']\n",
    "\n",
    "PARAMETERS['n_travel_days'] = (PARAMETERS['return_date_dt'] - PARAMETERS['departure_date_dt']).days + 1\n",
    "PARAMETERS['departure_date'] = PARAMETERS['departure_date_dt'].strftime('%Y-%m-%d')\n",
    "PARAMETERS['return_date'] = PARAMETERS['return_date_dt'].strftime('%Y-%m-%d')\n",
    "print(PARAMETERS)"
   ]
  },
  {
   "cell_type": "markdown",
   "id": "dd8bd6af-d6f5-4056-bdae-4a838aca1652",
   "metadata": {},
   "source": [
    "# Travel Plan Generation"
   ]
  },
  {
   "cell_type": "code",
   "execution_count": 3,
   "id": "7f25cfc4-5d6f-4e11-bf5e-d9a0cfe539ed",
   "metadata": {},
   "outputs": [
    {
     "name": "stdout",
     "output_type": "stream",
     "text": [
      "{\"day_plans\": [{\"date\": \"2024-11-30\", \"activities\": [{\"time\": \"2024-11-30T14:00:00\", \"place\": \"Brandenburg Gate\", \"description\": \"Start your romantic trip with a visit to the iconic Brandenburg Gate. Take some beautiful photos together.\"}, {\"time\": \"2024-11-30T16:00:00\", \"place\": \"Museum Island\", \"description\": \"Explore the museums on Museum Island. Choose one or two museums to visit and enjoy the art and history.\"}, {\"time\": \"2024-11-30T19:00:00\", \"place\": \"Restaurant Tim Raue\", \"description\": \"Enjoy a romantic dinner at the Michelin-starred Restaurant Tim Raue. Make sure to book a table in advance.\"}], \"city\": \"Berlin\"}, {\"date\": \"2024-12-01\", \"activities\": [{\"time\": \"2024-12-01T10:00:00\", \"place\": \"Berlin Cathedral\", \"description\": \"Visit the Berlin Cathedral and climb to the top for a stunning view of the city.\"}, {\"time\": \"2024-12-01T12:00:00\", \"place\": \"Gendarmenmarkt\", \"description\": \"Stroll around Gendarmenmarkt, one of the most beautiful squares in Berlin. Enjoy a coffee at one of the nearby cafes.\"}, {\"time\": \"2024-12-01T15:00:00\", \"place\": \"East Side Gallery\", \"description\": \"Walk along the East Side Gallery, the longest remaining section of the Berlin Wall, and admire the murals.\"}, {\"time\": \"2024-12-01T18:00:00\", \"place\": \"Charlottenburg Palace\", \"description\": \"Take a romantic evening walk in the gardens of Charlottenburg Palace.\"}], \"city\": \"Berlin\"}, {\"date\": \"2024-12-02\", \"activities\": [{\"time\": \"2024-12-02T10:00:00\", \"place\": \"Tiergarten\", \"description\": \"Spend a relaxing morning walking through Tiergarten, Berlin's most popular inner-city park.\"}, {\"time\": \"2024-12-02T13:00:00\", \"place\": \"Kaiser Wilhelm Memorial Church\", \"description\": \"Visit the Kaiser Wilhelm Memorial Church, a symbol of peace and reconciliation.\"}, {\"time\": \"2024-12-02T15:00:00\", \"place\": \"Potsdamer Platz\", \"description\": \"Explore Potsdamer Platz, a bustling area with shops, cafes, and entertainment options.\"}, {\"time\": \"2024-12-02T19:00:00\", \"place\": \"Cl\\u00e4rchens Ballhaus\", \"description\": \"End the day with a romantic dinner and dancing at Cl\\u00e4rchens Ballhaus, a historic dance hall.\"}], \"city\": \"Berlin\"}, {\"date\": \"2024-12-03\", \"activities\": [{\"time\": \"2024-12-03T08:00:00\", \"place\": \"Caf\\u00e9 Einstein Stammhaus\", \"description\": \"Have an early breakfast at Caf\\u00e9 Einstein Stammhaus before leaving Berlin.\"}], \"city\": \"Berlin\"}]}\n",
      "CPU times: total: 734 ms\n",
      "Wall time: 7.25 s\n"
     ]
    }
   ],
   "source": [
    "%%time\n",
    "\n",
    "travel_plan_generator_agent = get_travel_plan_generator_agent(input_parameters=PARAMETERS)\n",
    "\n",
    "generated_travel_plan = travel_plan_generator_agent.invoke(PARAMETERS)\n",
    "\n",
    "print(generated_travel_plan.json())"
   ]
  },
  {
   "cell_type": "code",
   "execution_count": 4,
   "id": "23f01e81-1fe3-4153-a92f-8fe6dcd03427",
   "metadata": {},
   "outputs": [],
   "source": [
    "PARAMETERS['generated_travel_plan'] = generated_travel_plan # must be initialized with a RunnableAssign when building the whole chain\n",
    "PARAMETERS['generated_travel_plan_json'] = generated_travel_plan.json()"
   ]
  },
  {
   "cell_type": "markdown",
   "id": "3a29b20a-528d-4ce5-ba02-df0d5200fa44",
   "metadata": {},
   "source": [
    "# Flight search"
   ]
  },
  {
   "cell_type": "code",
   "execution_count": 5,
   "id": "af3f57e4-81c6-4dbf-80ef-5f8a72bd84d9",
   "metadata": {},
   "outputs": [],
   "source": [
    "flight_selector_agent = get_flight_selection_chain(input_parameters=PARAMETERS,\n",
    "                                              serp_api_default_pars=FLIGHT_API_PARAMETERS,\n",
    "                                              hardcoded_endpoints=FLIGHTS_ENDPOINTS)\n"
   ]
  },
  {
   "cell_type": "code",
   "execution_count": 6,
   "id": "e05b7b4c-bbfa-4208-b70d-41206c513f34",
   "metadata": {},
   "outputs": [
    {
     "name": "stdout",
     "output_type": "stream",
     "text": [
      "Reading from direct endpoint\n",
      "Reading from direct endpoint\n"
     ]
    }
   ],
   "source": [
    "selected_flights = flight_selector_agent.invoke(PARAMETERS)"
   ]
  },
  {
   "cell_type": "code",
   "execution_count": 7,
   "id": "61296e75-c846-462d-802c-c1f0f880a679",
   "metadata": {},
   "outputs": [
    {
     "data": {
      "text/plain": [
       "FlightDetails(flights=[Flight(departure_airport=Airport(name='Milan Malpensa Airport', airport_id='MXP', time='2024-11-30 16:10'), arrival_airport=Airport(name='Berlin Brandenburg Airport (BER)', airport_id='BER', time='2024-11-30 17:55'), duration=105, airline='Ryanair', travel_class=<FlightClass.economy: 'economy'>, flight_number='FR1234', price=47, reason='This flight allows you to arrive in Berlin in the afternoon, giving you time to settle in before your romantic evening.'), Flight(departure_airport=Airport(name='Berlin Brandenburg Airport (BER)', airport_id='BER', time='2024-12-03 08:00'), arrival_airport=Airport(name='Milan Malpensa Airport', airport_id='MXP', time='2024-12-03 09:45'), duration=105, airline='Ryanair', travel_class=<FlightClass.economy: 'economy'>, flight_number='FR5678', price=42, reason='This morning flight allows you to leave Berlin early, fitting perfectly with your preference to leave in the morning.')])"
      ]
     },
     "execution_count": 7,
     "metadata": {},
     "output_type": "execute_result"
    }
   ],
   "source": [
    "selected_flights"
   ]
  },
  {
   "cell_type": "markdown",
   "id": "10d21515-5379-42fb-801e-0a2dee652280",
   "metadata": {},
   "source": [
    "# Hotel search"
   ]
  },
  {
   "cell_type": "code",
   "execution_count": 8,
   "id": "fc2cfb5b-5cf4-4806-afb9-523e9d85536f",
   "metadata": {},
   "outputs": [
    {
     "name": "stdout",
     "output_type": "stream",
     "text": [
      "Reading from direct endpoint\n"
     ]
    }
   ],
   "source": [
    "accomodations_selector_agent = get_accomodation_selection_chain(input_parameters=PARAMETERS,\n",
    "                                                           serp_api_default_pars=HOTELS_API_PARAMETERS,\n",
    "                                                           hardcoded_endpoints=HOTELS_ENDPOINT)\n",
    "selected_accomodation = accomodations_selector_agent.invoke(PARAMETERS)"
   ]
  },
  {
   "cell_type": "code",
   "execution_count": 9,
   "id": "d00e63e1-8a68-4f12-b0da-3dff387aa5e3",
   "metadata": {},
   "outputs": [
    {
     "data": {
      "text/plain": [
       "AccomodationstDetails(accomodations=[HotelDetails(type='hotel', name='Metropol Hostel Berlin', description='Relaxed budget lodging offering rooms & dorms with free Wi-Fi & breakfast, plus a lobby bar.', link='https://neu.metropolhostel-berlin.de/', gps_coordinates=GpsCoordinates(latitude=52.4937981, longitude=13.387845599999999, city='Berlin'), check_in_time='3:00\\u202fPM', check_out_time='10:00\\u202fAM', rate_per_night=Rate(lowest='€72', extracted_lowest=72, before_taxes_fees='€31', extracted_before_taxes_fees=31), total_rate=Rate(lowest='€216', extracted_lowest=216, before_taxes_fees='€92', extracted_before_taxes_fees=92), nearby_places=[NearbyPlace(name='Brandenburg Gate', transportations=[Transportation(type_='Taxi', duration='9 min')]), NearbyPlace(name='Südkreuz', transportations=[Transportation(type_='Taxi', duration='8 min')]), NearbyPlace(name='Berlin Brandenburg Airport', transportations=[Transportation(type_='Taxi', duration='24 min'), Transportation(type_='Public transport', duration='47 min')])], hotel_class='unknown', overall_rating=4.4, reviews=458, reviews_breakdown=[ReviewsBreakDown(name='Breakfast', description='Breakfast', total_mentioned='71', positive=50, neutral=8, negative=13), ReviewsBreakDown(name='Location', description='Location', total_mentioned='78', positive=64, neutral=7, negative=7), ReviewsBreakDown(name='Restaurant', description='Restaurant', total_mentioned='34', positive=22, neutral=4, negative=8), ReviewsBreakDown(name='Sleep', description='Sleep', total_mentioned='51', positive=22, neutral=5, negative=24), ReviewsBreakDown(name='Service', description='Service', total_mentioned='88', positive=76, neutral=3, negative=9), ReviewsBreakDown(name='Bathroom', description='Bathroom and toiletries', total_mentioned='34', positive=17, neutral=2, negative=15)], ratings=[Rating(stars=5, count=236), Rating(stars=4, count=200), Rating(stars=3, count=7), Rating(stars=2, count=4), Rating(stars=1, count=11)], location_rating=4.8, amenities=['Free breakfast', 'Free Wi-Fi', 'Pet-friendly', 'Bar', 'Restaurant', 'Airport shuttle', 'Smoke-free property'], reason='The Metropol Hostel Berlin offers a good balance of price, location, and amenities, making it suitable for a romantic trip.')])"
      ]
     },
     "execution_count": 9,
     "metadata": {},
     "output_type": "execute_result"
    }
   ],
   "source": [
    "selected_accomodation"
   ]
  },
  {
   "cell_type": "code",
   "execution_count": null,
   "id": "3e5a2a67-a548-488a-8ff4-2c229d2036d9",
   "metadata": {},
   "outputs": [],
   "source": []
  }
 ],
 "metadata": {
  "kernelspec": {
   "display_name": "Python 3 (ipykernel)",
   "language": "python",
   "name": "python3"
  },
  "language_info": {
   "codemirror_mode": {
    "name": "ipython",
    "version": 3
   },
   "file_extension": ".py",
   "mimetype": "text/x-python",
   "name": "python",
   "nbconvert_exporter": "python",
   "pygments_lexer": "ipython3",
   "version": "3.9.0"
  }
 },
 "nbformat": 4,
 "nbformat_minor": 5
}
